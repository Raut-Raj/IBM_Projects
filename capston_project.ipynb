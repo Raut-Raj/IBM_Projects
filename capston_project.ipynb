{
  "nbformat": 4,
  "nbformat_minor": 0,
  "metadata": {
    "colab": {
      "provenance": [],
      "authorship_tag": "ABX9TyPWT9F12aCe7T4tH81U2HcD",
      "include_colab_link": true
    },
    "kernelspec": {
      "name": "python3",
      "display_name": "Python 3"
    },
    "language_info": {
      "name": "python"
    }
  },
  "cells": [
    {
      "cell_type": "markdown",
      "metadata": {
        "id": "view-in-github",
        "colab_type": "text"
      },
      "source": [
        "<a href=\"https://colab.research.google.com/github/Raut-Raj/IBM_Projects/blob/main/capston_project.ipynb\" target=\"_parent\"><img src=\"https://colab.research.google.com/assets/colab-badge.svg\" alt=\"Open In Colab\"/></a>"
      ]
    },
    {
      "cell_type": "code",
      "execution_count": 1,
      "metadata": {
        "colab": {
          "base_uri": "https://localhost:8080/"
        },
        "id": "yKdAZpI_h6Ez",
        "outputId": "91d479dc-2a4d-4c5d-a90a-068027fba6d7"
      },
      "outputs": [
        {
          "output_type": "stream",
          "name": "stdout",
          "text": [
            "  Flight No.     Launch site                       Payload Payload mass Orbit  \\\n",
            "0         14  Cape Canaveral                  SpaceX CRS-5     2,395 kg   LEO   \n",
            "1         15  Cape Canaveral                        DSCOVR       570 kg   HEO   \n",
            "2         16  Cape Canaveral                        ABS-3A     4,159 kg   GTO   \n",
            "3         17  Cape Canaveral                  SpaceX CRS-6     1,898 kg   LEO   \n",
            "4         18  Cape Canaveral  TürkmenÄlem 52°E / MonacoSAT     4,707 kg   GTO   \n",
            "\n",
            "  Customer Launch outcome Version Booster Booster landing              Date  \\\n",
            "0     NASA        Success        F9 v1.1[        Failure    10 January 2015   \n",
            "1     USAF      Success\\n        F9 v1.1[      Controlled  11 February 2015   \n",
            "2      ABS      Success\\n        F9 v1.1[      No attempt      2 March 2015   \n",
            "3     NASA      Success\\n        F9 v1.1[         Failure     14 April 2015   \n",
            "4     None      Success\\n        F9 v1.1[      No attempt     27 April 2015   \n",
            "\n",
            "    Time  \n",
            "0  09:47  \n",
            "1  23:03  \n",
            "2  03:50  \n",
            "3  20:10  \n",
            "4  23:03  \n"
          ]
        }
      ],
      "source": [
        "# Import required packages\n",
        "import requests\n",
        "from bs4 import BeautifulSoup\n",
        "import pandas as pd\n",
        "import unicodedata\n",
        "\n",
        "# Define helper functions\n",
        "def date_time(table_cells):\n",
        "    return [data_time.strip() for data_time in list(table_cells.strings)][0:2]\n",
        "\n",
        "def booster_version(table_cells):\n",
        "    out = ''.join([booster_version for i, booster_version in enumerate(table_cells.strings) if i % 2 == 0][0:-1])\n",
        "    return out\n",
        "\n",
        "def landing_status(table_cells):\n",
        "    return [i for i in table_cells.strings][0]\n",
        "\n",
        "def get_mass(table_cells):\n",
        "    mass = unicodedata.normalize(\"NFKD\", table_cells.text).strip()\n",
        "    if mass:\n",
        "        new_mass = mass[0:mass.find(\"kg\")+2]\n",
        "    else:\n",
        "        new_mass = 0\n",
        "    return new_mass\n",
        "\n",
        "def extract_column_from_header(row):\n",
        "    if (row.br):\n",
        "        row.br.extract()\n",
        "    if row.a:\n",
        "        row.a.extract()\n",
        "    if row.sup:\n",
        "        row.sup.extract()\n",
        "\n",
        "    column_name = ' '.join(row.contents)\n",
        "    if not(column_name.strip().isdigit()):\n",
        "        column_name = column_name.strip()\n",
        "        return column_name\n",
        "\n",
        "# URL for the Wikipedia page\n",
        "static_url = \"https://en.wikipedia.org/w/index.php?title=List_of_Falcon_9_and_Falcon_Heavy_launches&oldid=1027686922\"\n",
        "\n",
        "# Request the Falcon9 Launch Wiki page\n",
        "response = requests.get(static_url)\n",
        "soup = BeautifulSoup(response.text, 'html.parser')\n",
        "\n",
        "# Extract the table containing the launch records\n",
        "html_tables = soup.find_all('table', \"wikitable plainrowheaders collapsible\")\n",
        "first_launch_table = html_tables[2]\n",
        "\n",
        "# Extract column names\n",
        "column_names = []\n",
        "for th in first_launch_table.find_all('th'):\n",
        "    name = extract_column_from_header(th)\n",
        "    if name:\n",
        "        column_names.append(name)\n",
        "\n",
        "# Create a dictionary to hold the data\n",
        "launch_dict = {name: [] for name in column_names if name != \"Date and time ( )\"}\n",
        "launch_dict['Version Booster'] = []\n",
        "launch_dict['Booster landing'] = []\n",
        "launch_dict['Date'] = []\n",
        "launch_dict['Time'] = []\n",
        "\n",
        "# Extract launch data\n",
        "for rows in first_launch_table.find_all(\"tr\"):\n",
        "    if rows.th:\n",
        "        flight_number = rows.th.string.strip()\n",
        "        if flight_number.isdigit():\n",
        "            row = rows.find_all('td')\n",
        "            datatimelist = date_time(row[0])\n",
        "            date = datatimelist[0].strip(',')\n",
        "            time = datatimelist[1]\n",
        "            bv = booster_version(row[1]) or row[1].a.string\n",
        "            launch_site = row[2].a.string\n",
        "            payload = row[3].a.string\n",
        "            payload_mass = get_mass(row[4])\n",
        "            orbit = row[5].a.string\n",
        "            customer = row[6].a.string\n",
        "            launch_outcome = list(row[7].strings)[0]\n",
        "            booster_landing = landing_status(row[8])\n",
        "\n",
        "            # Append data to the dictionary\n",
        "            launch_dict['Flight No.'].append(flight_number)\n",
        "            launch_dict['Version Booster'].append(bv)\n",
        "            launch_dict['Launch site'].append(launch_site)\n",
        "            launch_dict['Payload'].append(payload)\n",
        "            launch_dict['Payload mass'].append(payload_mass)\n",
        "            launch_dict['Orbit'].append(orbit)\n",
        "            launch_dict['Customer'].append(customer)\n",
        "            launch_dict['Launch outcome'].append(launch_outcome)\n",
        "            launch_dict['Booster landing'].append(booster_landing)\n",
        "            launch_dict['Date'].append(date)\n",
        "            launch_dict['Time'].append(time)\n",
        "\n",
        "# Convert dictionary to DataFrame\n",
        "df = pd.DataFrame(launch_dict)\n",
        "\n",
        "# Save to CSV\n",
        "df.to_csv('spacex_web_scraped.csv', index=False)\n",
        "\n",
        "# Display the first few rows of the DataFrame\n",
        "print(df.head())\n"
      ]
    },
    {
      "cell_type": "code",
      "source": [],
      "metadata": {
        "id": "6S2OgjJkh9rN"
      },
      "execution_count": null,
      "outputs": []
    }
  ]
}